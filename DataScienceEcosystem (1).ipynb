{
 "cells": [
  {
   "cell_type": "markdown",
   "id": "677d1b32-c6fa-4cd1-a1ae-e521f1dbf709",
   "metadata": {},
   "source": [
    "# DataScienceEcosystem"
   ]
  },
  {
   "cell_type": "markdown",
   "id": "74373b03-44a7-4563-8211-fab332569156",
   "metadata": {},
   "source": [
    "# Introduction\n",
    "\n",
    "Data science relies on a diverse range of tools and technologies to collect, process, analyze, and visualize data. These tools empower data professionals to extract insights from complex datasets and drive innovation. From programming languages to machine learning frameworks and visualization libraries, the data science ecosystem continues to evolve, offering new capabilities to solve diverse challenges and unlock opportunities.\n"
   ]
  },
  {
   "cell_type": "markdown",
   "id": "03ecc06e-a170-4886-b898-1cacc8e78b68",
   "metadata": {},
   "source": [
    "# popular languages that Data Scientists use are:\n",
    "\n",
    "Python <br>\n",
    "R <br>\n",
    "SQL\n",
    "\n",
    "\n",
    "# Popular Languages Used by Data Scientists:\n",
    "\n",
    "Python <br>\n",
    "R <br>\n",
    "SQL\n",
    "\n",
    "# Popular Libraries Used by Data Scientists:\n",
    "\n",
    "Pandas <br>\n",
    "NumPy <br>\n",
    "Scikit-learn\n",
    "\n",
    "\n",
    "\n"
   ]
  },
  {
   "cell_type": "markdown",
   "id": "7412220f-c59b-4122-bcea-4c2b821b5fc2",
   "metadata": {},
   "source": [
    "**Objectives:**\n",
    "\n",
    "- List popular languages for Data Science.\n",
    "- Introduce commonly used libraries in Data Science.\n",
    "- Create tables and formatted text in Markdown."
   ]
  },
  {
   "cell_type": "markdown",
   "id": "77be10ac-8cb0-466b-9bf2-be45cab2f7fb",
   "metadata": {},
   "source": [
    "# Author\n",
    "\n",
    "Kokilapriya"
   ]
  },
  {
   "cell_type": "code",
   "execution_count": null,
   "id": "314b559e-6138-4e14-9156-64e0d2031eda",
   "metadata": {},
   "outputs": [],
   "source": []
  }
 ],
 "metadata": {
  "kernelspec": {
   "display_name": "Python",
   "language": "python",
   "name": "conda-env-python-py"
  },
  "language_info": {
   "codemirror_mode": {
    "name": "ipython",
    "version": 3
   },
   "file_extension": ".py",
   "mimetype": "text/x-python",
   "name": "python",
   "nbconvert_exporter": "python",
   "pygments_lexer": "ipython3",
   "version": "3.7.12"
  }
 },
 "nbformat": 4,
 "nbformat_minor": 5
}
